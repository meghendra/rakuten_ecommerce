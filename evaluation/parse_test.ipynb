{
 "cells": [
  {
   "cell_type": "code",
   "execution_count": 28,
   "metadata": {
    "collapsed": true
   },
   "outputs": [],
   "source": [
    "import re\n",
    "import numpy as np"
   ]
  },
  {
   "cell_type": "code",
   "execution_count": null,
   "metadata": {
    "collapsed": true
   },
   "outputs": [],
   "source": []
  },
  {
   "cell_type": "code",
   "execution_count": 29,
   "metadata": {
    "collapsed": false
   },
   "outputs": [],
   "source": [
    "file = open('test_out').read()\n",
    "x = re.split('={3,}[\\w ()/]+={3,}', file)[1:]"
   ]
  },
  {
   "cell_type": "code",
   "execution_count": 48,
   "metadata": {
    "collapsed": false,
    "scrolled": true
   },
   "outputs": [
    {
     "name": "stdout",
     "output_type": "stream",
     "text": [
      "BASE-fix_r2-all,BASE-random_effect_r2-all,BASE-adjusted-all,BPE-fix_r2-all,BPE-random_effect_r2-all,BPE-adjusted-all,BPE-fix_r2-BP_+_POS_+_#BP,BPE-random_effect_r2-BP_+_POS_+_#BP,BPE-adjusted-BP_+_POS_+_#BP,BPE-fix_r2-BP_+_POS,BPE-random_effect_r2-BP_+_POS,BPE-adjusted-BP_+_POS,BPE-fix_r2-BP_+_#_BP_,BPE-random_effect_r2-BP_+_#_BP_,BPE-adjusted-BP_+_#_BP_,BPE-fix_r2-BP_only,BPE-random_effect_r2-BP_only,BPE-adjusted-BP_only,MORPH-fix_r2-all,MORPH-random_effect_r2-all,MORPH-adjusted-all,MORPH-fix_r2-MORPH_+_POS_+_#MORPH,MORPH-random_effect_r2-MORPH_+_POS_+_#MORPH,MORPH-adjusted-MORPH_+_POS_+_#MORPH,MORPH-fix_r2-MORPH_+_POS,MORPH-random_effect_r2-MORPH_+_POS,MORPH-adjusted-MORPH_+_POS,MORPH-fix_r2-MORPH_+_#_MORPH_,MORPH-random_effect_r2-MORPH_+_#_MORPH_,MORPH-adjusted-MORPH_+_#_MORPH_,MORPH-fix_r2-MORPH_only,MORPH-random_effect_r2-MORPH_only,MORPH-adjusted-MORPH_only\n",
      "0.0000,0.5177,0.5884,0.5497,0.7469,0.7711,0.5231,0.7088,0.6948,0.5212,0.7077,0.5502,0.4958,0.7096,0.5390,0.4985,0.7075,0.5393,0.4684,0.7873,0.7625,0.4544,0.7814,0.7587,0.4544,0.7814,0.5079,0.4532,0.7745,0.5060,0.4535,0.7756,0.5066\n"
     ]
    }
   ],
   "source": [
    "header = []\n",
    "evals = []\n",
    "\n",
    "for i in range(len(x)):\n",
    "    table = np.array(zip(*[iter(x[i].replace(' ', '_').split())]*4))\n",
    "\n",
    "    table_type = 'BASE' if i == 0 else 'BPE' if i == 1 else 'MORPH'\n",
    "    for r in range(table.shape[0])[1:]:\n",
    "        for c in range(table.shape[1])[1:]:\n",
    "            header.append( '%s-%s-%s' % (table_type, table[0, c], table[r, 0]))\n",
    "            evals.append(table[r, c])\n",
    "\n",
    "print ','.join([h for h in header])\n",
    "print ','.join([e for e in evals])\n",
    "\n",
    "\n"
   ]
  },
  {
   "cell_type": "code",
   "execution_count": 49,
   "metadata": {
    "collapsed": false
   },
   "outputs": [
    {
     "name": "stdout",
     "output_type": "stream",
     "text": [
      "1 2 3 4\n",
      "5 6 7 8\n"
     ]
    }
   ],
   "source": []
  },
  {
   "cell_type": "code",
   "execution_count": null,
   "metadata": {
    "collapsed": true
   },
   "outputs": [],
   "source": []
  }
 ],
 "metadata": {
  "kernelspec": {
   "display_name": "Python 2",
   "language": "python",
   "name": "python2"
  },
  "language_info": {
   "codemirror_mode": {
    "name": "ipython",
    "version": 2
   },
   "file_extension": ".py",
   "mimetype": "text/x-python",
   "name": "python",
   "nbconvert_exporter": "python",
   "pygments_lexer": "ipython2",
   "version": "2.7.11"
  }
 },
 "nbformat": 4,
 "nbformat_minor": 2
}
